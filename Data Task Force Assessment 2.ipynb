{
 "cells": [
  {
   "cell_type": "code",
   "execution_count": 1,
   "id": "81f2033d",
   "metadata": {},
   "outputs": [
    {
     "name": "stdout",
     "output_type": "stream",
     "text": [
      "The factorial of 5 is 120\n"
     ]
    }
   ],
   "source": [
    "#(a)Create a function that calculates the factorial of a number using loops.\n",
    "def Num_factorial(n):\n",
    "    factorial = 1\n",
    "    if n < 0:\n",
    "        print(\"Factorial is not defined for negative numbers.\")\n",
    "    elif n == 0:\n",
    "        print(\"The factorial of 0 is 1\")\n",
    "    else:\n",
    "        for i in range(1, n + 1):\n",
    "            factorial *= i\n",
    "        print(\"The factorial of\", n, \"is\", factorial)\n",
    "\n",
    "# usage\n",
    "Num_factorial(5)\n"
   ]
  },
  {
   "cell_type": "code",
   "execution_count": 2,
   "id": "c4cc3524",
   "metadata": {},
   "outputs": [
    {
     "name": "stdout",
     "output_type": "stream",
     "text": [
      "Operations on the list of numbers:\n",
      "Maximum: 37\n",
      "Minimum: 8\n",
      "Average: 19.00\n"
     ]
    }
   ],
   "source": [
    "#(b)Write a Python program that performs operations on a list of numbers (e.g., find the max,min, average).\n",
    "\n",
    "def list_operations(numbers):\n",
    "    if len(numbers) == 0:\n",
    "        return \"The list is empty.\"\n",
    " \n",
    "    max_value = max(numbers)\n",
    "   \n",
    "    min_value = min(numbers)\n",
    "   \n",
    "    avg_value = sum(numbers) / len(numbers)\n",
    " \n",
    "    return {\n",
    "        \"Maximum\": max_value,\n",
    "        \"Minimum\": min_value,\n",
    "        \"Average\": avg_value\n",
    "    }\n",
    " \n",
    "numbers = [15, 22, 8, 19, 37, 13]\n",
    " \n",
    "results = list_operations(numbers)\n",
    " \n",
    "print(\"Operations on the list of numbers:\")\n",
    "print(f\"Maximum: {results['Maximum']}\")\n",
    "print(f\"Minimum: {results['Minimum']}\")\n",
    "print(f\"Average: {results['Average']:.2f}\")\n"
   ]
  },
  {
   "cell_type": "code",
   "execution_count": 5,
   "id": "2aa29cf9",
   "metadata": {},
   "outputs": [
    {
     "name": "stdout",
     "output_type": "stream",
     "text": [
      "Enter your name and surname: Mofokeng\n",
      "Enter your student number:9875624\n",
      "Enter your course name:IT\n",
      "Enter your grades: 78\n",
      "Enter the title or the book: Programming for damies\n",
      "{'name': 'Mofokeng', 'student number': '9875624', 'grade': '78', 'book': 'Programming for damies', 'courseName': 'IT'}\n"
     ]
    }
   ],
   "source": [
    "#(c)Create a small project where students use dictionaries to store and retrieve information.\n",
    "\n",
    "def addStudentInfo():\n",
    "    my_dict = {}\n",
    "    name_surname = input('Enter your name and surname: ')\n",
    "    studNum = input('Enter your student number:')\n",
    "    courseName = input('Enter your course name:')\n",
    "    grade = input('Enter your grades: ')\n",
    "    books = input('Enter the title or the book: ')\n",
    "\n",
    "    my_dict['name'] = name_surname\n",
    "    my_dict['student number'] =  studNum\n",
    "    my_dict['grade'] = grade\n",
    "    my_dict['book'] = books\n",
    "    my_dict['courseName'] = courseName\n",
    "    print(my_dict)\n",
    "addStudentInfo()\n"
   ]
  },
  {
   "cell_type": "code",
   "execution_count": null,
   "id": "077fcc70",
   "metadata": {},
   "outputs": [],
   "source": []
  }
 ],
 "metadata": {
  "kernelspec": {
   "display_name": "Python 3 (ipykernel)",
   "language": "python",
   "name": "python3"
  },
  "language_info": {
   "codemirror_mode": {
    "name": "ipython",
    "version": 3
   },
   "file_extension": ".py",
   "mimetype": "text/x-python",
   "name": "python",
   "nbconvert_exporter": "python",
   "pygments_lexer": "ipython3",
   "version": "3.11.5"
  }
 },
 "nbformat": 4,
 "nbformat_minor": 5
}
